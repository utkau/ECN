{
 "cells": [
  {
   "cell_type": "markdown",
   "metadata": {},
   "source": [
    "# P4Lang Tutorials of FABRIC\n",
    "\n",
    "This notebook walks the user through setting up a FABRIC eperiment that is suitiable for completing the P4 tutorials created by [P4Lang](https://github.com/p4lang/tutorials). The tutorials were origianlly designed to use a mininet topology. This example replaces the mininet topology with a FABRIC experiemnt topology that may span multiple sites across the FABRIC testbed.\n",
    "\n",
    "Additional resources:\n",
    "- [FABRIC Knowledge Base](https://learn.fabric-testbed.net/)\n",
    "- [FABRIC Forums](https://learn.fabric-testbed.net/forums/)\n",
    "- [P4Lang Tutorials](https://github.com/p4lang/tutorials)\n",
    "- [P4Lang YouTube Presentations](https://www.youtube.com/channel/UCOQAFkDKucJWr-KafdJsdIQ)"
   ]
  },
  {
   "cell_type": "markdown",
   "metadata": {},
   "source": [
    "## Basic FABRIC Slice Configuration"
   ]
  },
  {
   "cell_type": "code",
   "execution_count": 1,
   "metadata": {},
   "outputs": [],
   "source": [
    "import json\n",
    "import traceback\n",
    "from fabrictestbed_extensions.fablib.fablib import fablib"
   ]
  },
  {
   "cell_type": "code",
   "execution_count": 2,
   "metadata": {},
   "outputs": [
    {
     "name": "stdout",
     "output_type": "stream",
     "text": [
      "Name      CPUs  Cores    RAM (G)    Disk (G)       Basic (100 Gbps NIC)    ConnectX-6 (100 Gbps x2 NIC)    ConnectX-5 (25 Gbps x2 NIC)    P4510 (NVMe 1TB)    Tesla T4 (GPU)    RTX6000 (GPU)\n",
      "------  ------  -------  ---------  -------------  ----------------------  ------------------------------  -----------------------------  ------------------  ----------------  ---------------\n",
      "MASS         6  132/192  1180/1536  60170/60600    355/381                 2/2                             2/2                            10/10               2/2               3/3\n",
      "SALT         6  180/192  1492/1536  60440/60600    367/381                 2/2                             1/2                            10/10               2/2               3/3\n",
      "NCSA         6  188/192  1520/1536  60580/60600    378/381                 2/2                             2/2                            10/10               2/2               3/3\n",
      "UTAH        10  298/320  2472/2560  116200/116400  618/635                 2/2                             4/4                            16/16               4/4               5/5\n",
      "WASH         6  160/192  1436/1536  59758/60600    361/381                 2/2                             2/2                            10/10               2/2               3/3\n",
      "DALL         6  120/192  1248/1536  58758/60600    338/381                 2/2                             1/2                            10/10               2/2               3/3\n",
      "MAX          0  0/0      0/0        0/0            0/0                     0/0                             0/0                            0/0                 0/0               0/0\n",
      "MICH         6  176/192  1472/1536  60040/60600    371/381                 2/2                             2/2                            10/10               2/2               3/3\n",
      "TACC        10  156/320  1522/2560  113332/116400  512/635                 2/2                             3/4                            16/16               4/4               6/6\n",
      "STAR         0  0/0      0/0        0/0            0/0                     0/0                             0/0                            0/0                 0/0               0/0\n",
      "AL2S         0  0/0      0/0        0/0            0/0                     0/0                             0/0                            0/0                 0/0               0/0\n",
      "GPN         10  302/320  2488/2560  116310/116400  626/635                 2/2                             4/4                            16/16               4/4               6/6\n",
      "UCSD        10  94/320   1940/2560  115018/116400  585/635                 2/2                             0/4                            16/16               0/4               6/6\n",
      "CLEM         6  174/192  1400/1536  60500/60600    376/381                 2/2                             2/2                            10/10               2/2               3/3\n",
      "FIU         10  298/320  2476/2560  116238/116400  625/635                 2/2                             4/4                            16/16               4/4               6/6\n"
     ]
    }
   ],
   "source": [
    "try:\n",
    "    print(f\"{fablib.list_sites()}\")\n",
    "except Exception as e:\n",
    "    print(f\"Exception: {e}\")"
   ]
  },
  {
   "cell_type": "markdown",
   "metadata": {
    "tags": []
   },
   "source": [
    "## Configure Slice Parameters\n",
    "\n",
    "This section builds the experiment slice \n",
    "\n",
    "<img src=\"figs/fabric_slice.png\" width=\"800\"/>\n",
    "\n"
   ]
  },
  {
   "cell_type": "code",
   "execution_count": 3,
   "metadata": {},
   "outputs": [
    {
     "name": "stdout",
     "output_type": "stream",
     "text": [
      "Sites: UTAH,UTAH,UTAH\n"
     ]
    }
   ],
   "source": [
    "from ipaddress import ip_address, IPv4Address, IPv6Address, IPv4Network, IPv6Network\n",
    "\n",
    "# Slice \n",
    "slice_name = 'P4Lang_Tutorial'\n",
    "\n",
    "[site1,site2,site3] = ['UTAH', 'UTAH', 'UTAH']\n",
    "# fablib.get_random_sites(count=3)\n",
    "print(f\"Sites: {site1},{site2},{site3}\")\n",
    "\n",
    "# Switches\n",
    "s1_name = \"s1\"\n",
    "s2_name = \"s2\"\n",
    "s3_name = \"s3\"\n",
    "\n",
    "switch_cores = 2\n",
    "switch_ram = 8\n",
    "switch_disk = 100\n",
    "\n",
    "# Hosts\n",
    "h1_name = \"h1\"\n",
    "h2_name = \"h2\"\n",
    "h3_name = \"h3\"\n",
    "h11_name = \"h11\"\n",
    "h22_name = \"h22\"\n",
    "\n",
    "h1_subnet=IPv4Network('10.0.1.0/24')\n",
    "h1_addr=IPv4Address('10.0.1.1')\n",
    "\n",
    "h11_subnet=IPv4Network('10.0.1.0/24')\n",
    "h11_addr=IPv4Address('10.0.1.11')\n",
    "\n",
    "h2_subnet=IPv4Network('10.0.2.0/24')\n",
    "h2_addr=IPv4Address('10.0.2.2')\n",
    "\n",
    "h22_subnet=IPv4Network('10.0.2.0/24')\n",
    "h22_addr=IPv4Address('10.0.2.22')\n",
    "\n",
    "h3_subnet=IPv4Network('10.0.3.0/24')\n",
    "h3_addr=IPv4Address('10.0.3.3')\n",
    "\n",
    "host_cores = 2\n",
    "host_ram = 8\n",
    "host_disk = 10\n",
    "\n",
    "net_h1_name = 'net_h1'\n",
    "net_h2_name = 'net_h2'\n",
    "net_h3_name = 'net_h3'\n",
    "\n",
    "net_h11_name = 'net_h11'\n",
    "net_h22_name = 'net_h22'\n",
    "\n",
    "net_s1_s2_name = 'net_s1_s2'\n",
    "net_s2_s3_name = 'net_s2_s3'\n",
    "net_s1_s3_name = 'net_s1_s3'\n",
    "\n",
    "# All node properties\n",
    "image = 'default_ubuntu_20'"
   ]
  },
  {
   "cell_type": "markdown",
   "metadata": {},
   "source": [
    "### Create the Slice"
   ]
  },
  {
   "cell_type": "code",
   "execution_count": 4,
   "metadata": {},
   "outputs": [
    {
     "name": "stdout",
     "output_type": "stream",
     "text": [
      "\n",
      "-----------  ------------------------------------\n",
      "Slice Name   P4Lang_Tutorial\n",
      "Slice ID     3d1ecbe2-1a64-419f-b939-8669f1175507\n",
      "Slice State  StableOK\n",
      "Lease End    2022-12-09 04:54:02 +0000\n",
      "-----------  ------------------------------------\n",
      "\n",
      "Retry: 11, Time: 285 sec\n",
      "\n",
      "ID                                    Name    Site    Host                          Cores    RAM    Disk  Image              Management IP                        State    Error\n",
      "------------------------------------  ------  ------  --------------------------  -------  -----  ------  -----------------  -----------------------------------  -------  -------\n",
      "c6198056-3c4b-4846-ab11-7aa34879713d  s1      UTAH    utah-w2.fabric-testbed.net        2      8     100  default_ubuntu_20  2001:1948:417:7:f816:3eff:fed3:eba5  Active\n",
      "ca2a5596-9a09-484b-b2ba-582199305b8b  s2      UTAH    utah-w2.fabric-testbed.net        2      8     100  default_ubuntu_20  2001:1948:417:7:f816:3eff:fe22:d8a7  Active\n",
      "e0576c01-77d1-42fc-a701-d13ff4483758  s3      UTAH    utah-w1.fabric-testbed.net        2      8     100  default_ubuntu_20  2001:1948:417:7:f816:3eff:fe02:f63f  Active\n",
      "3bbeab06-96ab-461d-8d1b-50a78ec9e7f3  h1      UTAH    utah-w1.fabric-testbed.net        2      8      10  default_ubuntu_20  2001:1948:417:7:f816:3eff:fe9c:e0a8  Active\n",
      "ab1361bf-a9d2-4b8d-a235-2540a05e3c44  h11     UTAH    utah-w1.fabric-testbed.net        2      8      10  default_ubuntu_20  2001:1948:417:7:f816:3eff:fece:abe3  Active\n",
      "120113d8-4bba-43ad-9360-f35e808c5d85  h2      UTAH    utah-w1.fabric-testbed.net        2      8      10  default_ubuntu_20  2001:1948:417:7:f816:3eff:fe79:f8b7  Active\n",
      "6b7c0f58-dfd6-488f-9cdd-97087a56f154  h22     UTAH    utah-w1.fabric-testbed.net        2      8      10  default_ubuntu_20  2001:1948:417:7:f816:3eff:fee7:22dc  Active\n",
      "8b041742-3b6e-4d31-828b-e6a977a762dd  h3      UTAH    utah-w1.fabric-testbed.net        2      8      10  default_ubuntu_20  2001:1948:417:7:f816:3eff:fe09:f1    Active\n",
      "\n",
      "Time to stable 285 seconds\n",
      "Running post_boot_config ... Time to post boot config 329 seconds\n",
      "\n",
      "Name                  Node    Network      Bandwidth  VLAN    MAC                Physical OS Interface    OS Interface\n",
      "--------------------  ------  ---------  -----------  ------  -----------------  -----------------------  --------------\n",
      "s1-s1_switch_nic1-p1  s1      net_s1_s2            0          0E:03:29:78:E1:CC  ens8                     ens8\n",
      "s1-s1_local_nic-p1    s1      net_h1               0          0E:63:4A:0A:65:DF  ens9                     ens9\n",
      "s1-s1_switch_nic2-p1  s1      net_s1_s3            0          0A:ED:E0:7F:C2:B5  ens7                     ens7\n",
      "s1-s11_local_nic-p1   s1      net_h11              0          0E:F2:09:C7:2B:5B  ens10                    ens10\n",
      "s2-s2_switch_nic2-p1  s2      net_s2_s3            0          1A:3F:5B:11:FF:86  ens8                     ens8\n",
      "s2-s22_local_nic-p1   s2      net_h22              0          12:6D:9D:B0:75:BA  ens7                     ens7\n",
      "s2-s2_switch_nic1-p1  s2      net_s1_s2            0          1A:A7:71:B4:31:4A  ens10                    ens10\n",
      "s2-s2_local_nic-p1    s2      net_h2               0          1A:57:15:D4:97:6A  ens9                     ens9\n",
      "s3-s3_switch_nic2-p1  s3      net_s2_s3            0          06:F0:DC:70:A0:CB  ens7                     ens7\n",
      "s3-s3_local_nic-p1    s3      net_h3               0          0E:16:61:3F:B3:24  ens9                     ens9\n",
      "s3-s3_switch_nic1-p1  s3      net_s1_s3            0          0A:39:3C:56:50:CD  ens8                     ens8\n",
      "h1-h1_nic-p1          h1      net_h1               0          0E:17:B5:72:FF:2D  ens7                     ens7\n",
      "h11-h11_nic-p1        h11     net_h11              0          0E:1F:6F:94:05:8A  ens7                     ens7\n",
      "h2-h2_nic-p1          h2      net_h2               0          12:81:EB:BC:DF:69  ens7                     ens7\n",
      "h22-h22_nic-p1        h22     net_h22              0          1A:AB:26:46:47:2C  ens7                     ens7\n",
      "h3-h3_nic-p1          h3      net_h3               0          1E:21:F8:86:FC:DA  ens7                     ens7\n",
      "\n",
      "Time to print interfaces 377 seconds\n"
     ]
    }
   ],
   "source": [
    "try:\n",
    "    #Create Slice\n",
    "    slice = fablib.new_slice(name=slice_name)\n",
    "    \n",
    "    # Add switch node s1\n",
    "    s1 = slice.add_node(name=s1_name, site=site1,  image=image, \n",
    "                        cores=switch_cores, ram=switch_ram, disk=switch_disk)\n",
    "    s1.set_capacities(cores=switch_cores, ram=switch_ram, disk=switch_disk)\n",
    "    s1_iface_local = s1.add_component(model='NIC_Basic', name=\"s1_local_nic\").get_interfaces()[0]\n",
    "    s11_iface_local = s1.add_component(model='NIC_Basic', name=\"s11_local_nic\").get_interfaces()[0]\n",
    "    s1_iface_to_s2 = s1.add_component(model='NIC_Basic', name=\"s1_switch_nic1\").get_interfaces()[0]\n",
    "    s1_iface_to_s3 = s1.add_component(model='NIC_Basic', name=\"s1_switch_nic2\").get_interfaces()[0]\n",
    "\n",
    "    # Add switch node s2\n",
    "    s2 = slice.add_node(name=s2_name, site=site2,  image=image, \n",
    "                        cores=switch_cores, ram=switch_ram, disk=switch_disk)\n",
    "    s2_iface_local = s2.add_component(model='NIC_Basic', name=\"s2_local_nic\").get_interfaces()[0]\n",
    "    s22_iface_local = s2.add_component(model='NIC_Basic', name=\"s22_local_nic\").get_interfaces()[0]\n",
    "    s2_iface_to_s1 = s2.add_component(model='NIC_Basic', name=\"s2_switch_nic1\").get_interfaces()[0]\n",
    "    s2_iface_to_s3 = s2.add_component(model='NIC_Basic', name=\"s2_switch_nic2\").get_interfaces()[0]\n",
    "    \n",
    "    # Add switch node s3\n",
    "    s3 = slice.add_node(name=s3_name, site=site3,  image=image, \n",
    "                        cores=switch_cores, ram=switch_ram, disk=switch_disk)\n",
    "    s3_iface_local = s3.add_component(model='NIC_Basic', name=\"s3_local_nic\").get_interfaces()[0]\n",
    "    s3_iface_to_s1 = s3.add_component(model='NIC_Basic', name=\"s3_switch_nic1\").get_interfaces()[0]\n",
    "    s3_iface_to_s2 = s3.add_component(model='NIC_Basic', name=\"s3_switch_nic2\").get_interfaces()[0]    \n",
    "    \n",
    "    # Add host node h1\n",
    "    h1 = slice.add_node(name=h1_name, site=site1, image=image,\n",
    "                        cores=host_cores, ram=host_ram, disk=host_disk)\n",
    "    h1_iface = h1.add_component(model='NIC_Basic', name=\"h1_nic\").get_interfaces()[0]\n",
    "    \n",
    "    # Add host node h11\n",
    "    h11 = slice.add_node(name=h11_name, site=site1, image=image,\n",
    "                        cores=host_cores, ram=host_ram, disk=host_disk)\n",
    "    h11_iface = h11.add_component(model='NIC_Basic', name=\"h11_nic\").get_interfaces()[0]\n",
    "    \n",
    "    # Add host node h2\n",
    "    h2 = slice.add_node(name=h2_name, site=site2, image=image,\n",
    "                        cores=host_cores, ram=host_ram, disk=host_disk)\n",
    "    h2_iface = h2.add_component(model='NIC_Basic', name=\"h2_nic\").get_interfaces()[0]\n",
    "    \n",
    "    # Add host node h22\n",
    "    h22 = slice.add_node(name=h22_name, site=site2, image=image,\n",
    "                        cores=host_cores, ram=host_ram, disk=host_disk)\n",
    "    h22_iface = h22.add_component(model='NIC_Basic', name=\"h22_nic\").get_interfaces()[0]\n",
    "    \n",
    "    # Add host node h3\n",
    "    h3 = slice.add_node(name=h3_name, site=site3, image=image,\n",
    "                        cores=host_cores, ram=host_ram, disk=host_disk)\n",
    "    h3_iface = h3.add_component(model='NIC_Basic', name=\"h3_nic\").get_interfaces()[0]\n",
    "    \n",
    "    #Add swtich networks\n",
    "    switch_net1 = slice.add_l2network(name=net_s1_s2_name, interfaces=[s1_iface_to_s2, s2_iface_to_s1])\n",
    "    swtich_net2 = slice.add_l2network(name=net_s2_s3_name, interfaces=[s2_iface_to_s3, s3_iface_to_s2])\n",
    "    swtich_net3 = slice.add_l2network(name=net_s1_s3_name, interfaces=[s3_iface_to_s1, s1_iface_to_s3])\n",
    "\n",
    "    #Add host networks \n",
    "    host_net1 = slice.add_l2network(name=net_h1_name, interfaces=[s1_iface_local, h1_iface])\n",
    "    host_net11 = slice.add_l2network(name=net_h11_name, interfaces=[s11_iface_local, h11_iface])\n",
    "\n",
    "    host_net2 = slice.add_l2network(name=net_h2_name, interfaces=[s2_iface_local, h2_iface])\n",
    "    host_net22 = slice.add_l2network(name=net_h22_name, interfaces=[s22_iface_local, h22_iface])\n",
    "    \n",
    "    host_net3 = slice.add_l2network(name=net_h3_name, interfaces=[s3_iface_local, h3_iface])\n",
    "    \n",
    "    #Submit Slice Request\n",
    "    slice.submit() \n",
    "except Exception as e:\n",
    "    print(f\"Error: {e}\")\n",
    "    traceback.print_exc()\n",
    "    "
   ]
  },
  {
   "cell_type": "markdown",
   "metadata": {
    "tags": []
   },
   "source": [
    "## Observe the Slice's Attributes\n",
    "\n",
    "### Print the slice"
   ]
  },
  {
   "cell_type": "code",
   "execution_count": 5,
   "metadata": {},
   "outputs": [
    {
     "name": "stdout",
     "output_type": "stream",
     "text": [
      "-----------  ------------------------------------\n",
      "Slice Name   P4Lang_Tutorial\n",
      "Slice ID     d1f8d6ca-1fb7-4e5f-8415-55c002073c12\n",
      "Slice State  StableOK\n",
      "Lease End    2022-11-14 08:52:41 +0000\n",
      "-----------  ------------------------------------\n"
     ]
    }
   ],
   "source": [
    "try:\n",
    "    slice = fablib.get_slice(name=slice_name)\n",
    "    print(f\"{slice}\")\n",
    "except Exception as e:\n",
    "    print(f\"Exception: {e}\")"
   ]
  },
  {
   "cell_type": "markdown",
   "metadata": {
    "tags": []
   },
   "source": [
    "### Print the Node List"
   ]
  },
  {
   "cell_type": "code",
   "execution_count": 6,
   "metadata": {},
   "outputs": [
    {
     "name": "stdout",
     "output_type": "stream",
     "text": [
      "ID                                    Name    Site    Host                          Cores    RAM    Disk  Image              Management IP                        State    Error\n",
      "------------------------------------  ------  ------  --------------------------  -------  -----  ------  -----------------  -----------------------------------  -------  -------\n",
      "fa451793-d220-43fe-844a-ec7fe817443e  s1      UTAH    utah-w5.fabric-testbed.net        2      8     100  default_ubuntu_20  2001:1948:417:7:f816:3eff:fed9:905c  Active\n",
      "671ea5f2-d9bb-45e7-a9a1-b9e2a0cd5870  s2      UTAH    utah-w5.fabric-testbed.net        2      8     100  default_ubuntu_20  2001:1948:417:7:f816:3eff:fe9b:c307  Active\n",
      "82c4119f-a1fb-4c07-aa20-2799c1b8b1a1  s3      UTAH    utah-w5.fabric-testbed.net        2      8     100  default_ubuntu_20  2001:1948:417:7:f816:3eff:feed:5934  Active\n",
      "88705ab0-bdc7-4422-be5a-1484d6d37ab1  h1      UTAH    utah-w5.fabric-testbed.net        2      8      10  default_ubuntu_20  2001:1948:417:7:f816:3eff:fe12:24b8  Active\n",
      "41b2579a-c198-4c66-8e6f-50e9b22b74c1  h11     UTAH    utah-w5.fabric-testbed.net        2      8      10  default_ubuntu_20  2001:1948:417:7:f816:3eff:fe60:ddd4  Active\n",
      "0771caae-d7b6-4add-b40f-55ea80ca9b2e  h2      UTAH    utah-w5.fabric-testbed.net        2      8      10  default_ubuntu_20  2001:1948:417:7:f816:3eff:fe2d:333f  Active\n",
      "f6987a5e-461c-4419-86b7-05fa304d4d75  h22     UTAH    utah-w5.fabric-testbed.net        2      8      10  default_ubuntu_20  2001:1948:417:7:f816:3eff:fe88:ab26  Active\n",
      "bcb69148-ea0c-436c-adef-7b35699a1fb6  h3      UTAH    utah-w5.fabric-testbed.net        2      8      10  default_ubuntu_20  2001:1948:417:7:f816:3eff:fea1:6f75  Active\n"
     ]
    }
   ],
   "source": [
    "try:\n",
    "    slice = fablib.get_slice(name=slice_name)\n",
    "\n",
    "    print(f\"{slice.list_nodes()}\")\n",
    "except Exception as e:\n",
    "    print(f\"Exception: {e}\")"
   ]
  },
  {
   "cell_type": "markdown",
   "metadata": {},
   "source": [
    "### Print the Node Details"
   ]
  },
  {
   "cell_type": "code",
   "execution_count": 7,
   "metadata": {},
   "outputs": [
    {
     "name": "stdout",
     "output_type": "stream",
     "text": [
      "-----------------  ------------------------------------------------------------------------------------------------------------------------------------------\n",
      "ID                 fa451793-d220-43fe-844a-ec7fe817443e\n",
      "Name               s1\n",
      "Cores              2\n",
      "RAM                8\n",
      "Disk               100\n",
      "Image              default_ubuntu_20\n",
      "Image Type         qcow2\n",
      "Host               utah-w5.fabric-testbed.net\n",
      "Site               UTAH\n",
      "Management IP      2001:1948:417:7:f816:3eff:fed9:905c\n",
      "Reservation State  Active\n",
      "Error Message\n",
      "SSH Command        ssh -i /home/fabric/work/keys/jiabhi_sliver -J ajinda10_0051550143@bastion-1.fabric-testbed.net ubuntu@2001:1948:417:7:f816:3eff:fed9:905c\n",
      "-----------------  ------------------------------------------------------------------------------------------------------------------------------------------\n",
      "-----------------  ------------------------------------------------------------------------------------------------------------------------------------------\n",
      "ID                 671ea5f2-d9bb-45e7-a9a1-b9e2a0cd5870\n",
      "Name               s2\n",
      "Cores              2\n",
      "RAM                8\n",
      "Disk               100\n",
      "Image              default_ubuntu_20\n",
      "Image Type         qcow2\n",
      "Host               utah-w5.fabric-testbed.net\n",
      "Site               UTAH\n",
      "Management IP      2001:1948:417:7:f816:3eff:fe9b:c307\n",
      "Reservation State  Active\n",
      "Error Message\n",
      "SSH Command        ssh -i /home/fabric/work/keys/jiabhi_sliver -J ajinda10_0051550143@bastion-1.fabric-testbed.net ubuntu@2001:1948:417:7:f816:3eff:fe9b:c307\n",
      "-----------------  ------------------------------------------------------------------------------------------------------------------------------------------\n",
      "-----------------  ------------------------------------------------------------------------------------------------------------------------------------------\n",
      "ID                 82c4119f-a1fb-4c07-aa20-2799c1b8b1a1\n",
      "Name               s3\n",
      "Cores              2\n",
      "RAM                8\n",
      "Disk               100\n",
      "Image              default_ubuntu_20\n",
      "Image Type         qcow2\n",
      "Host               utah-w5.fabric-testbed.net\n",
      "Site               UTAH\n",
      "Management IP      2001:1948:417:7:f816:3eff:feed:5934\n",
      "Reservation State  Active\n",
      "Error Message\n",
      "SSH Command        ssh -i /home/fabric/work/keys/jiabhi_sliver -J ajinda10_0051550143@bastion-1.fabric-testbed.net ubuntu@2001:1948:417:7:f816:3eff:feed:5934\n",
      "-----------------  ------------------------------------------------------------------------------------------------------------------------------------------\n",
      "-----------------  ------------------------------------------------------------------------------------------------------------------------------------------\n",
      "ID                 88705ab0-bdc7-4422-be5a-1484d6d37ab1\n",
      "Name               h1\n",
      "Cores              2\n",
      "RAM                8\n",
      "Disk               10\n",
      "Image              default_ubuntu_20\n",
      "Image Type         qcow2\n",
      "Host               utah-w5.fabric-testbed.net\n",
      "Site               UTAH\n",
      "Management IP      2001:1948:417:7:f816:3eff:fe12:24b8\n",
      "Reservation State  Active\n",
      "Error Message\n",
      "SSH Command        ssh -i /home/fabric/work/keys/jiabhi_sliver -J ajinda10_0051550143@bastion-1.fabric-testbed.net ubuntu@2001:1948:417:7:f816:3eff:fe12:24b8\n",
      "-----------------  ------------------------------------------------------------------------------------------------------------------------------------------\n",
      "-----------------  ------------------------------------------------------------------------------------------------------------------------------------------\n",
      "ID                 41b2579a-c198-4c66-8e6f-50e9b22b74c1\n",
      "Name               h11\n",
      "Cores              2\n",
      "RAM                8\n",
      "Disk               10\n",
      "Image              default_ubuntu_20\n",
      "Image Type         qcow2\n",
      "Host               utah-w5.fabric-testbed.net\n",
      "Site               UTAH\n",
      "Management IP      2001:1948:417:7:f816:3eff:fe60:ddd4\n",
      "Reservation State  Active\n",
      "Error Message\n",
      "SSH Command        ssh -i /home/fabric/work/keys/jiabhi_sliver -J ajinda10_0051550143@bastion-1.fabric-testbed.net ubuntu@2001:1948:417:7:f816:3eff:fe60:ddd4\n",
      "-----------------  ------------------------------------------------------------------------------------------------------------------------------------------\n",
      "-----------------  ------------------------------------------------------------------------------------------------------------------------------------------\n",
      "ID                 0771caae-d7b6-4add-b40f-55ea80ca9b2e\n",
      "Name               h2\n",
      "Cores              2\n",
      "RAM                8\n",
      "Disk               10\n",
      "Image              default_ubuntu_20\n",
      "Image Type         qcow2\n",
      "Host               utah-w5.fabric-testbed.net\n",
      "Site               UTAH\n",
      "Management IP      2001:1948:417:7:f816:3eff:fe2d:333f\n",
      "Reservation State  Active\n",
      "Error Message\n",
      "SSH Command        ssh -i /home/fabric/work/keys/jiabhi_sliver -J ajinda10_0051550143@bastion-1.fabric-testbed.net ubuntu@2001:1948:417:7:f816:3eff:fe2d:333f\n",
      "-----------------  ------------------------------------------------------------------------------------------------------------------------------------------\n",
      "-----------------  ------------------------------------------------------------------------------------------------------------------------------------------\n",
      "ID                 f6987a5e-461c-4419-86b7-05fa304d4d75\n",
      "Name               h22\n",
      "Cores              2\n",
      "RAM                8\n",
      "Disk               10\n",
      "Image              default_ubuntu_20\n",
      "Image Type         qcow2\n",
      "Host               utah-w5.fabric-testbed.net\n",
      "Site               UTAH\n",
      "Management IP      2001:1948:417:7:f816:3eff:fe88:ab26\n",
      "Reservation State  Active\n",
      "Error Message\n",
      "SSH Command        ssh -i /home/fabric/work/keys/jiabhi_sliver -J ajinda10_0051550143@bastion-1.fabric-testbed.net ubuntu@2001:1948:417:7:f816:3eff:fe88:ab26\n",
      "-----------------  ------------------------------------------------------------------------------------------------------------------------------------------\n",
      "-----------------  ------------------------------------------------------------------------------------------------------------------------------------------\n",
      "ID                 bcb69148-ea0c-436c-adef-7b35699a1fb6\n",
      "Name               h3\n",
      "Cores              2\n",
      "RAM                8\n",
      "Disk               10\n",
      "Image              default_ubuntu_20\n",
      "Image Type         qcow2\n",
      "Host               utah-w5.fabric-testbed.net\n",
      "Site               UTAH\n",
      "Management IP      2001:1948:417:7:f816:3eff:fea1:6f75\n",
      "Reservation State  Active\n",
      "Error Message\n",
      "SSH Command        ssh -i /home/fabric/work/keys/jiabhi_sliver -J ajinda10_0051550143@bastion-1.fabric-testbed.net ubuntu@2001:1948:417:7:f816:3eff:fea1:6f75\n",
      "-----------------  ------------------------------------------------------------------------------------------------------------------------------------------\n"
     ]
    }
   ],
   "source": [
    "try:\n",
    "    slice = fablib.get_slice(name=slice_name)\n",
    "    for node in slice.get_nodes():\n",
    "        print(f\"{node}\")\n",
    "except Exception as e:\n",
    "    print(f\"Exception: {e}\")"
   ]
  },
  {
   "cell_type": "markdown",
   "metadata": {},
   "source": [
    "### Print the Node SSH Commands"
   ]
  },
  {
   "cell_type": "code",
   "execution_count": 8,
   "metadata": {},
   "outputs": [
    {
     "name": "stdout",
     "output_type": "stream",
     "text": [
      "s1: ssh -i /home/fabric/work/keys/jiabhi_sliver -J ajinda10_0051550143@bastion-1.fabric-testbed.net ubuntu@2001:1948:417:7:f816:3eff:fed9:905c\n",
      "s2: ssh -i /home/fabric/work/keys/jiabhi_sliver -J ajinda10_0051550143@bastion-1.fabric-testbed.net ubuntu@2001:1948:417:7:f816:3eff:fe9b:c307\n",
      "s3: ssh -i /home/fabric/work/keys/jiabhi_sliver -J ajinda10_0051550143@bastion-1.fabric-testbed.net ubuntu@2001:1948:417:7:f816:3eff:feed:5934\n",
      "h1: ssh -i /home/fabric/work/keys/jiabhi_sliver -J ajinda10_0051550143@bastion-1.fabric-testbed.net ubuntu@2001:1948:417:7:f816:3eff:fe12:24b8\n",
      "h11: ssh -i /home/fabric/work/keys/jiabhi_sliver -J ajinda10_0051550143@bastion-1.fabric-testbed.net ubuntu@2001:1948:417:7:f816:3eff:fe60:ddd4\n",
      "h2: ssh -i /home/fabric/work/keys/jiabhi_sliver -J ajinda10_0051550143@bastion-1.fabric-testbed.net ubuntu@2001:1948:417:7:f816:3eff:fe2d:333f\n",
      "h22: ssh -i /home/fabric/work/keys/jiabhi_sliver -J ajinda10_0051550143@bastion-1.fabric-testbed.net ubuntu@2001:1948:417:7:f816:3eff:fe88:ab26\n",
      "h3: ssh -i /home/fabric/work/keys/jiabhi_sliver -J ajinda10_0051550143@bastion-1.fabric-testbed.net ubuntu@2001:1948:417:7:f816:3eff:fea1:6f75\n"
     ]
    }
   ],
   "source": [
    "try:\n",
    "    slice = fablib.get_slice(name=slice_name)\n",
    "    for node in slice.get_nodes():\n",
    "        print(f\"{node.get_name()}: {node.get_ssh_command()}\")\n",
    "except Exception as e:\n",
    "    print(f\"Exception: {e}\")"
   ]
  },
  {
   "cell_type": "markdown",
   "metadata": {},
   "source": [
    "### Print the Interfaces"
   ]
  },
  {
   "cell_type": "code",
   "execution_count": 9,
   "metadata": {
    "tags": []
   },
   "outputs": [
    {
     "name": "stdout",
     "output_type": "stream",
     "text": [
      "Name                  Node    Network      Bandwidth  VLAN    MAC                Physical OS Interface    OS Interface\n",
      "--------------------  ------  ---------  -----------  ------  -----------------  -----------------------  --------------\n",
      "s1-s1_switch_nic1-p1  s1      net_s1_s2            0          0A:CE:D5:B5:F0:09  ens10                    ens10\n",
      "s1-s1_local_nic-p1    s1      net_h1               0          0A:5C:7E:54:66:E7  ens9                     ens9\n",
      "s1-s1_switch_nic2-p1  s1      net_s1_s3            0          06:E6:02:2D:02:57  ens8                     ens8\n",
      "s1-s11_local_nic-p1   s1      net_h11              0          06:1F:9F:D4:E2:30  ens7                     ens7\n",
      "s2-s2_switch_nic2-p1  s2      net_s2_s3            0          02:29:C7:8C:E1:88  ens8                     ens8\n",
      "s2-s22_local_nic-p1   s2      net_h22              0          02:AA:1F:20:41:A6  ens9                     ens9\n",
      "s2-s2_switch_nic1-p1  s2      net_s1_s2            0          02:13:80:A3:DC:9D  ens7                     ens7\n",
      "s2-s2_local_nic-p1    s2      net_h2               0          02:B1:1B:7C:97:2E  ens10                    ens10\n",
      "s3-s3_switch_nic2-p1  s3      net_s2_s3            0          0E:A5:0F:6F:EC:D2  ens7                     ens7\n",
      "s3-s3_local_nic-p1    s3      net_h3               0          12:4C:7D:CA:C9:CA  ens8                     ens8\n",
      "s3-s3_switch_nic1-p1  s3      net_s1_s3            0          12:93:15:A3:E4:3D  ens9                     ens9\n",
      "h1-h1_nic-p1          h1      net_h1               0          12:AE:66:CD:D2:C6  ens7                     ens7\n",
      "h11-h11_nic-p1        h11     net_h11              0          1A:56:88:44:B0:45  ens7                     ens7\n",
      "h2-h2_nic-p1          h2      net_h2               0          1A:8A:DD:81:F7:4C  ens7                     ens7\n",
      "h22-h22_nic-p1        h22     net_h22              0          1A:C5:18:52:01:4A  ens7                     ens7\n",
      "h3-h3_nic-p1          h3      net_h3               0          1A:D2:AE:7A:D5:91  ens7                     ens7\n"
     ]
    }
   ],
   "source": [
    "try:\n",
    "    slice = fablib.get_slice(name=slice_name)\n",
    "    \n",
    "    print(f\"{slice.list_interfaces()}\")\n",
    "except Exception as e:\n",
    "    print(f\"Exception: {e}\")"
   ]
  },
  {
   "cell_type": "markdown",
   "metadata": {},
   "source": [
    "## Configure Nodes\n"
   ]
  },
  {
   "cell_type": "code",
   "execution_count": 10,
   "metadata": {},
   "outputs": [],
   "source": [
    "config_threads = {}"
   ]
  },
  {
   "cell_type": "code",
   "execution_count": 11,
   "metadata": {},
   "outputs": [],
   "source": [
    "host_config_script = \"sudo apt-get update -qq && sudo apt-get install -qq -y python3-scapy && git clone https://github.com/p4lang/tutorials.git/\" \n",
    "\n",
    "try:\n",
    "    \n",
    "    \n",
    "    h1 = slice.get_node(name=h1_name)        \n",
    "    if type(ip_address(h1.get_management_ip())) is IPv6Address:\n",
    "        h1.execute(\"sudo sed -i '/nameserver/d' /etc/resolv.conf && sudo sh -c 'echo nameserver 2a00:1098:2c::1 >> /etc/resolv.conf' && sudo sh -c 'echo nameserver 2a01:4f8:c2c:123f::1 >> /etc/resolv.conf' && sudo sh -c 'echo nameserver 2a00:1098:2b::1 >> /etc/resolv.conf'\")\n",
    "       \n",
    "    h1_os_iface = h1.get_interface(network_name=net_h1_name)\n",
    "    h1_os_iface.ip_addr_add(addr=h1_addr, subnet=h1_subnet)\n",
    "    h1_config_thread = h1.execute(host_config_script)\n",
    "    # config_threads[h1] = h1_config_thread\n",
    "    \n",
    "    h11 = slice.get_node(name=h11_name)        \n",
    "    if type(ip_address(h11.get_management_ip())) is IPv6Address:\n",
    "        h11.execute(\"sudo sed -i '/nameserver/d' /etc/resolv.conf && sudo sh -c 'echo nameserver 2a00:1098:2c::1 >> /etc/resolv.conf' && sudo sh -c 'echo nameserver 2a01:4f8:c2c:123f::1 >> /etc/resolv.conf' && sudo sh -c 'echo nameserver 2a00:1098:2b::1 >> /etc/resolv.conf'\")\n",
    "\n",
    "    h11_os_iface = h11.get_interface(network_name=net_h11_name)\n",
    "    h11_os_iface.ip_addr_add(addr=h11_addr, subnet=h11_subnet)\n",
    "    h11_config_thread = h11.execute(host_config_script)\n",
    "    # config_threads[h11] = h11_config_thread\n",
    "\n",
    "    \n",
    "    h2 = slice.get_node(name=h2_name)\n",
    "    if type(ip_address(h2.get_management_ip())) is IPv6Address:\n",
    "        h2.execute(\"sudo sed -i '/nameserver/d' /etc/resolv.conf && sudo sh -c 'echo nameserver 2a00:1098:2c::1 >> /etc/resolv.conf' && sudo sh -c 'echo nameserver 2a01:4f8:c2c:123f::1 >> /etc/resolv.conf' && sudo sh -c 'echo nameserver 2a00:1098:2b::1 >> /etc/resolv.conf'\")\n",
    " \n",
    "    h2_os_iface = h2.get_interface(network_name=net_h2_name)\n",
    "    h2_os_iface.ip_addr_add(addr=h2_addr, subnet=h2_subnet)\n",
    "    h2_config_thread = h2.execute(host_config_script)\n",
    "    # config_threads[h2] = h2_config_thread\n",
    "    \n",
    "    h22 = slice.get_node(name=h22_name)\n",
    "    if type(ip_address(h22.get_management_ip())) is IPv6Address:\n",
    "        h22.execute(\"sudo sed -i '/nameserver/d' /etc/resolv.conf && sudo sh -c 'echo nameserver 2a00:1098:2c::1 >> /etc/resolv.conf' && sudo sh -c 'echo nameserver 2a01:4f8:c2c:123f::1 >> /etc/resolv.conf' && sudo sh -c 'echo nameserver 2a00:1098:2b::1 >> /etc/resolv.conf'\")\n",
    " \n",
    "    h22_os_iface = h22.get_interface(network_name=net_h22_name)\n",
    "    h22_os_iface.ip_addr_add(addr=h22_addr, subnet=h22_subnet)\n",
    "    h22_config_thread = h22.execute(host_config_script)\n",
    "    # config_threads[h22] = h22_config_thread\n",
    "\n",
    "    h3 = slice.get_node(name=h3_name)\n",
    "    if type(ip_address(h3.get_management_ip())) is IPv6Address:\n",
    "        h3.execute(\"sudo sed -i '/nameserver/d' /etc/resolv.conf && sudo sh -c 'echo nameserver 2a00:1098:2c::1 >> /etc/resolv.conf' && sudo sh -c 'echo nameserver 2a01:4f8:c2c:123f::1 >> /etc/resolv.conf' && sudo sh -c 'echo nameserver 2a00:1098:2b::1 >> /etc/resolv.conf'\")\n",
    " \n",
    "    h3_os_iface = h3.get_interface(network_name=net_h3_name)\n",
    "    h3_os_iface.ip_addr_add(addr=h3_addr, subnet=h3_subnet)\n",
    "    h3_config_thread = h3.execute(host_config_script)\n",
    "    # config_threads[h3] = h3_config_thread\n",
    "\n",
    "except Exception as e:\n",
    "    print(f\"Error: {e}\")\n",
    "    traceback.print_exc()"
   ]
  },
  {
   "cell_type": "markdown",
   "metadata": {},
   "source": [
    "## Configure Switches\n",
    "\n",
    "Use ssh to configure the ifaces on the switches. This step requires testing the interfaces to figure out which interface is connected to which network.\n"
   ]
  },
  {
   "cell_type": "markdown",
   "metadata": {},
   "source": [
    "#### Setup P4 Docker\n",
    "\n"
   ]
  },
  {
   "cell_type": "markdown",
   "metadata": {},
   "source": [
    "Below are commands to let sudo work with the global proxy."
   ]
  },
  {
   "cell_type": "code",
   "execution_count": 12,
   "metadata": {},
   "outputs": [
    {
     "name": "stdout",
     "output_type": "stream",
     "text": [
      "---------------------  --------------------\n",
      "Name                   s1-s1_switch_nic1-p1\n",
      "Network                net_s1_s2\n",
      "Bandwidth              0\n",
      "VLAN\n",
      "MAC                    0A:CE:D5:B5:F0:09\n",
      "Physical OS Interface  ens10\n",
      "OS Interface           ens10\n",
      "---------------------  --------------------\n",
      "chmod +x router_setup_p4_bmv2_container.sh && sudo sh -c './router_setup_p4_bmv2_container.sh  IPv6 ens9 ens7 ens10 ens8  > /tmp/script.log 2>&1'\n"
     ]
    }
   ],
   "source": [
    "try:\n",
    "    s1 = slice.get_node(name=s1_name)\n",
    "    s1_h1_os_iface = s1.get_interface(network_name=net_h1_name)\n",
    "    s1_h11_os_iface = s1.get_interface(network_name=net_h11_name)\n",
    "    s1_s2_os_iface = s1.get_interface(network_name=net_s1_s2_name)\n",
    "    s1_s3_os_iface = s1.get_interface(network_name=net_s1_s3_name)\n",
    "    \n",
    "    print(s1_s2_os_iface)\n",
    "    \n",
    "    if type(ip_address(s1.get_management_ip())) is IPv4Address:\n",
    "        management_ip_type = \"IPv4\"\n",
    "    else:\n",
    "        management_ip_type = \"IPv6\"\n",
    "    \n",
    "    file_attributes = s1.upload_file('./scripts/router_setup_p4_bmv2_container.sh','router_setup_p4_bmv2_container.sh')\n",
    "    command=f\"chmod +x router_setup_p4_bmv2_container.sh && sudo sh -c './router_setup_p4_bmv2_container.sh  {management_ip_type} {s1_h1_os_iface.get_os_interface()} {s1_h11_os_iface.get_os_interface()} {s1_s2_os_iface.get_os_interface()} {s1_s3_os_iface.get_os_interface()}  > /tmp/script.log 2>&1'\"\n",
    "    print(command)\n",
    "    s1_config_thread = s1.execute(command)\n",
    "    # config_threads[s1] = s1_config_thread\n",
    "\n",
    "\n",
    "except Exception as e:\n",
    "    print(f\"Error: {e}\")\n",
    "    traceback.print_exc()"
   ]
  },
  {
   "cell_type": "code",
   "execution_count": 13,
   "metadata": {},
   "outputs": [
    {
     "name": "stdout",
     "output_type": "stream",
     "text": [
      "None\n",
      "chmod +x router_setup_p4_bmv2_container.sh && sudo sh -c './router_setup_p4_bmv2_container.sh  IPv6 ens10 ens9 ens7 ens8  > /tmp/script.log 2>&1'\n"
     ]
    }
   ],
   "source": [
    "try:\n",
    "    s2 = slice.get_node(name=s2_name)\n",
    "    # print(s2.get_interfaces())\n",
    "    s2_h2_os_iface = s2.get_interface(network_name=net_h2_name)\n",
    "    s2_h22_os_iface = s2.get_interface(network_name=net_h22_name)\n",
    "    s2_s1_os_iface = s2.get_interface(network_name=net_s1_s2_name)\n",
    "    print(s2_s1_os_iface.get_physical_os_interface())\n",
    "    \n",
    "    s2_s3_os_iface = s2.get_interface(network_name=net_s2_s3_name)\n",
    "\n",
    "    if type(ip_address(s2.get_management_ip())) is IPv4Address:\n",
    "        management_ip_type = \"IPv4\"\n",
    "    else:\n",
    "        management_ip_type = \"IPv6\"\n",
    "    \n",
    "    file_attributes = s2.upload_file('scripts/router_setup_p4_bmv2_container.sh','router_setup_p4_bmv2_container.sh')\n",
    "    command= f\"chmod +x router_setup_p4_bmv2_container.sh && sudo sh -c './router_setup_p4_bmv2_container.sh  {management_ip_type} {s2_h2_os_iface.get_os_interface()} {s2_h22_os_iface.get_os_interface()} {s2_s1_os_iface.get_os_interface()} {s2_s3_os_iface.get_os_interface()}  > /tmp/script.log 2>&1'\"\n",
    "    print(command)\n",
    "    s2_config_thread = s2.execute(command)\n",
    "    # config_threads[s2] = s2_config_thread\n",
    "\n",
    "except Exception as e:\n",
    "    print(f\"Error: {e}\")\n",
    "    traceback.print_exc() "
   ]
  },
  {
   "cell_type": "code",
   "execution_count": 14,
   "metadata": {},
   "outputs": [
    {
     "name": "stdout",
     "output_type": "stream",
     "text": [
      "chmod +x router_setup_p4_bmv2_container.sh && sudo sh -c './router_setup_p4_bmv2_container.sh  IPv6 ens8 ens9 ens7 > /tmp/script.log 2>&1'\n"
     ]
    }
   ],
   "source": [
    "try:\n",
    "    s3 = slice.get_node(name=s3_name)\n",
    "    s3_h3_os_iface = s3.get_interface(network_name=net_h3_name)\n",
    "    s3_s1_os_iface = s3.get_interface(network_name=net_s1_s3_name)\n",
    "    s3_s2_os_iface = s3.get_interface(network_name=net_s2_s3_name)\n",
    "\n",
    "    if type(ip_address(s3.get_management_ip())) is IPv4Address:\n",
    "        management_ip_type = \"IPv4\"\n",
    "    else:\n",
    "        management_ip_type = \"IPv6\"\n",
    "     \n",
    "    file_attributes = s3.upload_file('scripts/router_setup_p4_bmv2_container.sh','router_setup_p4_bmv2_container.sh')\n",
    "    command = f\"chmod +x router_setup_p4_bmv2_container.sh && sudo sh -c './router_setup_p4_bmv2_container.sh  {management_ip_type} {s3_h3_os_iface.get_os_interface()} {s3_s1_os_iface.get_os_interface()} {s3_s2_os_iface.get_os_interface()} > /tmp/script.log 2>&1'\"\n",
    "    print(command)\n",
    "    s3_config_thread = s3.execute(command)\n",
    "    # config_threads[s3] = s3_config_thread\n",
    "\n",
    "\n",
    "except Exception as e:\n",
    "    print(f\"Error: {e}\")\n",
    "    traceback.print_exc() "
   ]
  },
  {
   "cell_type": "code",
   "execution_count": 15,
   "metadata": {},
   "outputs": [],
   "source": [
    "try:\n",
    "    for node, thread in config_threads.items():\n",
    "        stdout, stderr = thread.result()\n",
    "        print(f\"Config thread node {node.get_name()} complete\")\n",
    "        print(f\"stdout: {stdout}\")\n",
    "        print(f\"stderr: {stderr}\")\n",
    "except Exception as e:\n",
    "    print(f\"Error: {e}\")\n",
    "    traceback.print_exc() \n"
   ]
  },
  {
   "cell_type": "markdown",
   "metadata": {},
   "source": [
    "### Confgure P4 Switch Tables\n",
    "\n",
    "Edit sX_commands.txt to change the values"
   ]
  },
  {
   "cell_type": "code",
   "execution_count": 17,
   "metadata": {},
   "outputs": [
    {
     "name": "stdout",
     "output_type": "stream",
     "text": [
      "Swtitch Name        : s1\n",
      "Management IP    : 2001:1948:417:7:f816:3eff:fed9:905c\n",
      "s1_commands.txt\n",
      "file_attributes: -rw-rw-r--   1 1000     1000          185 13 Nov 09:35 ?\n",
      "sudo sh -c 'cat s1_commands.txt | docker exec -i fabric_p4 simple_switch_CLI'\n",
      "stdout: ('Obtaining JSON from switch...\\nDone\\nControl utility for runtime P4 table manipulation\\nRuntimeCmd: Setting default action of myTunnel_exact\\naction:              drop\\nruntime data:        \\nRuntimeCmd: Adding entry to exact match table myTunnel_exact\\nmatch key:           EXACT-00:01\\naction:              myTunnel_forward\\nruntime data:        00:01\\nEntry has been added with handle 0\\nRuntimeCmd: Adding entry to exact match table myTunnel_exact\\nmatch key:           EXACT-00:02\\naction:              myTunnel_forward\\nruntime data:        00:02\\nEntry has been added with handle 1\\nRuntimeCmd: Adding entry to exact match table myTunnel_exact\\nmatch key:           EXACT-00:03\\naction:              myTunnel_forward\\nruntime data:        00:03\\nEntry has been added with handle 2\\nRuntimeCmd: \\n', 'sudo: unable to resolve host fa451793-d220-43fe-844a-ec7fe817443e-s1: Name or service not known\\n')\n",
      "Swtitch Name        : s2\n",
      "Management IP    : 2001:1948:417:7:f816:3eff:fe9b:c307\n",
      "s2_commands.txt\n",
      "file_attributes: -rw-rw-r--   1 1000     1000          185 13 Nov 09:35 ?\n",
      "sudo sh -c 'cat s2_commands.txt | docker exec -i fabric_p4 simple_switch_CLI'\n",
      "stdout: ('Obtaining JSON from switch...\\nDone\\nControl utility for runtime P4 table manipulation\\nRuntimeCmd: Setting default action of myTunnel_exact\\naction:              drop\\nruntime data:        \\nRuntimeCmd: Adding entry to exact match table myTunnel_exact\\nmatch key:           EXACT-00:01\\naction:              myTunnel_forward\\nruntime data:        00:02\\nEntry has been added with handle 0\\nRuntimeCmd: Adding entry to exact match table myTunnel_exact\\nmatch key:           EXACT-00:02\\naction:              myTunnel_forward\\nruntime data:        00:01\\nEntry has been added with handle 1\\nRuntimeCmd: Adding entry to exact match table myTunnel_exact\\nmatch key:           EXACT-00:03\\naction:              myTunnel_forward\\nruntime data:        00:03\\nEntry has been added with handle 2\\nRuntimeCmd: \\n', 'sudo: unable to resolve host 671ea5f2-d9bb-45e7-a9a1-b9e2a0cd5870-s2: Name or service not known\\n')\n",
      "Swtitch Name        : s3\n",
      "Management IP    : 2001:1948:417:7:f816:3eff:feed:5934\n",
      "s3_commands.txt\n",
      "file_attributes: -rw-rw-r--   1 1000     1000          185 13 Nov 09:35 ?\n",
      "sudo sh -c 'cat s3_commands.txt | docker exec -i fabric_p4 simple_switch_CLI'\n",
      "stdout: ('Could not connect to thrift client on port 9090\\nMake sure the switch is running and that you have the right port\\n', \"sudo: unable to resolve host 82c4119f-a1fb-4c07-aa20-2799c1b8b1a1-s3: Name or service not known\\nCould not connect to any of [('127.0.0.1', 9090), ('127.0.0.1', 9090)]\\n\")\n"
     ]
    }
   ],
   "source": [
    "for switch_name in [s1_name, s2_name, s3_name]:\n",
    "    switch_node = slice.get_node(name=switch_name)\n",
    "    management_ip_switch = str(switch_node.get_management_ip())\n",
    "    print(\"Swtitch Name        : {}\".format(switch_node.get_name()))\n",
    "    print(\"Management IP    : {}\".format(management_ip_switch))\n",
    "    \n",
    "    #Configure P4 Tables\n",
    "    cmd_file=f'{switch_name}_commands.txt'\n",
    "    print(cmd_file)\n",
    "    file_attributes = switch_node.upload_file(f'scripts/{cmd_file}',cmd_file)\n",
    "    print(\"file_attributes: {}\".format(file_attributes))\n",
    "    print(f\"sudo sh -c 'cat {cmd_file} | docker exec -i fabric_p4 simple_switch_CLI'\")\n",
    "    stdout = switch_node.execute(f\"sudo sh -c 'cat {cmd_file} | docker exec -i fabric_p4 simple_switch_CLI'\")\n",
    "    print(\"stdout: {}\".format(stdout))"
   ]
  },
  {
   "cell_type": "markdown",
   "metadata": {},
   "source": [
    "## The switches are now configured and running. Now we are going to send packets over the switches."
   ]
  },
  {
   "cell_type": "markdown",
   "metadata": {},
   "source": [
    "We are going to use `send.py` and `receive.py`. We are going to re-upload them to the servers and use them. Make sure to modify the interface names in the script accordingly."
   ]
  },
  {
   "cell_type": "code",
   "execution_count": 18,
   "metadata": {},
   "outputs": [
    {
     "data": {
      "text/plain": [
       "<SFTPAttributes: [ size=670 uid=1000 gid=1000 mode=0o100664 atime=1668332175 mtime=1668332175 ]>"
      ]
     },
     "execution_count": 18,
     "metadata": {},
     "output_type": "execute_result"
    }
   ],
   "source": [
    "h1.upload_file('scripts/send.py', 'tutorials/exercises/basic_tunnel/send_modified.py')\n",
    "h2.upload_file('scripts/receive.py', 'tutorials/exercises/basic_tunnel/receive_modified.py')\n",
    "\n",
    "#h1.execute('sudo mv send.py tutorials/exercises/basic_tunnel/send_modified.py')\n",
    "#h2.execute('sudo mv receive.py tutorials/exercises/basic_tunnel/receive_modified.py')"
   ]
  },
  {
   "cell_type": "markdown",
   "metadata": {},
   "source": [
    "## Below, we send a few packets."
   ]
  },
  {
   "cell_type": "code",
   "execution_count": 19,
   "metadata": {},
   "outputs": [
    {
     "data": {
      "text/plain": [
       "('', '')"
      ]
     },
     "execution_count": 19,
     "metadata": {},
     "output_type": "execute_result"
    }
   ],
   "source": [
    "h1.execute('tmux new -d \\'timeout 30 watch -n 5 sudo python3 tutorials/exercises/basic_tunnel/send_modified.py --dst_id 2 10.10.2.2 \"message100\"\\'')"
   ]
  },
  {
   "cell_type": "markdown",
   "metadata": {},
   "source": [
    "## And below we receive them."
   ]
  },
  {
   "cell_type": "code",
   "execution_count": 20,
   "metadata": {},
   "outputs": [
    {
     "name": "stdout",
     "output_type": "stream",
     "text": [
      "\n"
     ]
    }
   ],
   "source": [
    "print(h2.execute('sudo timeout 30 sudo python3 tutorials/exercises/basic_tunnel/receive_modified.py')[0])"
   ]
  },
  {
   "cell_type": "markdown",
   "metadata": {},
   "source": [
    "## Delete Slice"
   ]
  },
  {
   "cell_type": "code",
   "execution_count": null,
   "metadata": {},
   "outputs": [],
   "source": [
    "try:\n",
    "    slice = fablib.get_slice(name=slice_name)\n",
    "    slice.delete()\n",
    "except Exception as e:\n",
    "    print(f\"Fail: {e}\")\n",
    "    traceback.print_exc()"
   ]
  },
  {
   "cell_type": "code",
   "execution_count": null,
   "metadata": {},
   "outputs": [],
   "source": []
  }
 ],
 "metadata": {
  "kernelspec": {
   "display_name": "Python 3 (ipykernel)",
   "language": "python",
   "name": "python3"
  },
  "language_info": {
   "codemirror_mode": {
    "name": "ipython",
    "version": 3
   },
   "file_extension": ".py",
   "mimetype": "text/x-python",
   "name": "python",
   "nbconvert_exporter": "python",
   "pygments_lexer": "ipython3",
   "version": "3.9.7"
  }
 },
 "nbformat": 4,
 "nbformat_minor": 4
}
